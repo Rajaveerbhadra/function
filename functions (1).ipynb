{
 "cells": [
  {
   "cell_type": "code",
   "execution_count": 1,
   "id": "7e0fd996-d38b-4529-a05d-7895a7e59552",
   "metadata": {},
   "outputs": [],
   "source": [
    "num = 5\n",
    "def myfunc():\n",
    "    y= num + 5\n",
    "    print(\"accessing num -> (global) in myfunc, value =\", num)\n",
    "    print(\"accessing y -> (local variable of myfunc), value =\" , y)"
   ]
  },
  {
   "cell_type": "code",
   "execution_count": 2,
   "id": "401b963d-7d7f-4e48-ae45-4f6515e68e68",
   "metadata": {},
   "outputs": [
    {
     "name": "stdout",
     "output_type": "stream",
     "text": [
      "accessing num -> (global) in myfunc, value = 5\n",
      "accessing y -> (local variable of myfunc), value = 10\n"
     ]
    }
   ],
   "source": [
    "myfunc()"
   ]
  },
  {
   "cell_type": "code",
   "execution_count": 5,
   "id": "96f312d0-b63c-4ee7-b748-98b7dcba6054",
   "metadata": {},
   "outputs": [
    {
     "name": "stdout",
     "output_type": "stream",
     "text": [
      "accessing num -> (global) outside myfunc 5\n"
     ]
    }
   ],
   "source": [
    "print(\"accessing num -> (global) outside myfunc\", num)"
   ]
  },
  {
   "cell_type": "code",
   "execution_count": 13,
   "id": "7c8eda92-69b5-42ab-9faa-0071ebecdb69",
   "metadata": {},
   "outputs": [],
   "source": [
    "num = 5\n",
    "num1 = 10\n",
    "def myfunc1():\n",
    "    #prefixing global informs python to use the updated global variable num outside the function\n",
    "    global num1\n",
    "    print(\"accessing num = \",num)\n",
    "    num = 10\n",
    "    print(\"num reassigned = \", num1)\n",
    "    \n",
    "    \n"
   ]
  },
  {
   "cell_type": "code",
   "execution_count": 10,
   "id": "fcd55013-c11e-47eb-a46e-657bd3506c2e",
   "metadata": {},
   "outputs": [
    {
     "name": "stdout",
     "output_type": "stream",
     "text": [
      "5\n"
     ]
    }
   ],
   "source": [
    "print(num)"
   ]
  },
  {
   "cell_type": "code",
   "execution_count": 12,
   "id": "cc7bf013-525e-44bb-b82a-fc64091d1107",
   "metadata": {},
   "outputs": [
    {
     "ename": "NameError",
     "evalue": "name 'global_num' is not defined",
     "output_type": "error",
     "traceback": [
      "\u001b[0;31m---------------------------------------------------------------------------\u001b[0m",
      "\u001b[0;31mNameError\u001b[0m                                 Traceback (most recent call last)",
      "Cell \u001b[0;32mIn[12], line 1\u001b[0m\n\u001b[0;32m----> 1\u001b[0m \u001b[43mmyfunc1\u001b[49m\u001b[43m(\u001b[49m\u001b[43m)\u001b[49m\n",
      "Cell \u001b[0;32mIn[11], line 4\u001b[0m, in \u001b[0;36mmyfunc1\u001b[0;34m()\u001b[0m\n\u001b[1;32m      2\u001b[0m \u001b[38;5;28;01mdef\u001b[39;00m \u001b[38;5;21mmyfunc1\u001b[39m():\n\u001b[1;32m      3\u001b[0m     \u001b[38;5;66;03m#prefixing global informs python to use the updated global variable num outside the fun\u001b[39;00m\n\u001b[0;32m----> 4\u001b[0m     \u001b[43mglobal_num\u001b[49m\n\u001b[1;32m      5\u001b[0m     \u001b[38;5;28mprint\u001b[39m(\u001b[38;5;124m\"\u001b[39m\u001b[38;5;124maccessing num = \u001b[39m\u001b[38;5;124m\"\u001b[39m,num)\n\u001b[1;32m      6\u001b[0m     num \u001b[38;5;241m=\u001b[39m \u001b[38;5;241m10\u001b[39m\n",
      "\u001b[0;31mNameError\u001b[0m: name 'global_num' is not defined"
     ]
    }
   ],
   "source": [
    "myfunc1()"
   ]
  },
  {
   "cell_type": "code",
   "execution_count": 14,
   "id": "3d43f657-2700-4ab6-beda-dd2fee5fb54c",
   "metadata": {},
   "outputs": [
    {
     "name": "stdout",
     "output_type": "stream",
     "text": [
      "(8, 10, 30, 100, 57)\n"
     ]
    }
   ],
   "source": [
    "#map() function\n",
    "\n",
    "tup = (5,7,27,97,54)\n",
    "newtup = tuple(map(lambda x:x+3,tup))\n",
    "print(newtup)"
   ]
  },
  {
   "cell_type": "code",
   "execution_count": 17,
   "id": "6b4a3068-0365-4d12-8ae5-3b53b8083a5b",
   "metadata": {},
   "outputs": [
    {
     "name": "stdout",
     "output_type": "stream",
     "text": [
      "(1, 8, 27, 64, 125)\n"
     ]
    }
   ],
   "source": [
    "tup = (1,2,3,4,5)\n",
    "cube = tuple(map(lambda x:x**3,tup))\n",
    "print(cube)"
   ]
  },
  {
   "cell_type": "code",
   "execution_count": 19,
   "id": "5a0f4c16-85ec-4a01-89d0-6dd2216c0e15",
   "metadata": {},
   "outputs": [],
   "source": [
    "#filter(function, iterables)\n",
    "def func(x):\n",
    "    if x>=3:\n",
    "        return x\n",
    "    y= filter(func,(1,2,4,5))\n",
    "    print(y)\n",
    "    print(list(y))"
   ]
  },
  {
   "cell_type": "code",
   "execution_count": 21,
   "id": "538eaf14-5a87-460f-8ab3-26605a6146a7",
   "metadata": {},
   "outputs": [
    {
     "name": "stdout",
     "output_type": "stream",
     "text": [
      "[4, 5]\n"
     ]
    }
   ],
   "source": [
    "y = filter(lambda x:(x>=3),(1,2,4,5))\n",
    "print(list(y))"
   ]
  },
  {
   "cell_type": "code",
   "execution_count": 22,
   "id": "ead0957d-e289-4319-ab38-74cb6d4a0d25",
   "metadata": {},
   "outputs": [],
   "source": [
    "from functools import reduce"
   ]
  },
  {
   "cell_type": "code",
   "execution_count": 24,
   "id": "1ef8e97b-fbe2-4cb1-8129-695887b3c7cb",
   "metadata": {},
   "outputs": [
    {
     "name": "stdout",
     "output_type": "stream",
     "text": [
      "187\n"
     ]
    }
   ],
   "source": [
    "z = reduce(lambda a,b:a+b,[23,21,45,98])\n",
    "print(z)"
   ]
  },
  {
   "cell_type": "code",
   "execution_count": 26,
   "id": "2615510e-26fa-4fd6-b7b9-a7e30c4e272d",
   "metadata": {},
   "outputs": [
    {
     "name": "stdout",
     "output_type": "stream",
     "text": [
      "[1, 2, 3, 4, 'a', 'b', 'c', 1.1, 10.0, (1+2j)]\n"
     ]
    }
   ],
   "source": [
    "nestedlist = [[1,2,3,4],[\"a\",\"b\",\"c\"],[1.1,1.0E1,1+2j]]\n",
    "flatlist = []\n",
    "for sublist in nestedlist:\n",
    "    for element in sublist:\n",
    "        flatlist.append(element)\n",
    "print(flatlist)"
   ]
  },
  {
   "cell_type": "code",
   "execution_count": 27,
   "id": "bfd5a922-66a9-481e-86ea-235fbe79911f",
   "metadata": {},
   "outputs": [
    {
     "name": "stdout",
     "output_type": "stream",
     "text": [
      "[1, 2, 3, 4, 'a', 'b', 'c', 1.1, 10.0, (1+2j)]\n"
     ]
    }
   ],
   "source": [
    "from operator import concat\n",
    "flatlist = reduce(concat,nestedlist)\n",
    "print(flatlist)"
   ]
  },
  {
   "cell_type": "code",
   "execution_count": 30,
   "id": "99e3c8aa-d881-4a60-9527-579fe26a4a9e",
   "metadata": {},
   "outputs": [
    {
     "name": "stdout",
     "output_type": "stream",
     "text": [
      "[1, 2, 3, 4, 'ten', 'twenty', 'thirty', 1.1, 10.0, (1+2j)]\n"
     ]
    }
   ],
   "source": [
    "nestedlist = [[1,2,3,4],[\"ten\",\"twenty\",\"thirty\"],[1.1,1.0E1,1+2j]]\n",
    "flatlist = []\n",
    "for sublist in nestedlist:\n",
    "    for element in sublist:\n",
    "        flatlist.append(element)\n",
    "print(flatlist)"
   ]
  },
  {
   "cell_type": "code",
   "execution_count": 31,
   "id": "08907645-a95f-45fb-994b-089c16114298",
   "metadata": {},
   "outputs": [
    {
     "ename": "TypeError",
     "evalue": "open() missing 1 required positional argument: 'file'",
     "output_type": "error",
     "traceback": [
      "\u001b[0;31m---------------------------------------------------------------------------\u001b[0m",
      "\u001b[0;31mTypeError\u001b[0m                                 Traceback (most recent call last)",
      "Cell \u001b[0;32mIn[31], line 2\u001b[0m\n\u001b[1;32m      1\u001b[0m \u001b[38;5;66;03m#convert file data to list\u001b[39;00m\n\u001b[0;32m----> 2\u001b[0m fileobj \u001b[38;5;241m=\u001b[39m \u001b[38;5;28;43mopen\u001b[39;49m\u001b[43m(\u001b[49m\u001b[43m)\u001b[49m\n\u001b[1;32m      3\u001b[0m lines \u001b[38;5;241m=\u001b[39m []\n\u001b[1;32m      4\u001b[0m \u001b[38;5;28;01mfor\u001b[39;00m lines \u001b[38;5;129;01min\u001b[39;00m fileobj:\n",
      "\u001b[0;31mTypeError\u001b[0m: open() missing 1 required positional argument: 'file'"
     ]
    }
   ],
   "source": [
    "#convert file data to list\n",
    "fileobj = open()\n",
    "lines = fileobj.readlines()\n",
    "for lines in fileobj:\n",
    "    lines.append(line.strip())\n",
    "    print(lines)"
   ]
  },
  {
   "cell_type": "code",
   "execution_count": 33,
   "id": "34c27b02-d13b-4da5-a49c-092df09ee736",
   "metadata": {},
   "outputs": [],
   "source": [
    "d1={'A1':20,'B1':25,'c1':40}\n",
    "d2={\"x1\":100,\"y1\":200,\"d1\":\"hello\"}\n",
    "d3={**d1,**d2}"
   ]
  },
  {
   "cell_type": "code",
   "execution_count": 34,
   "id": "445be78d-a5f8-4c01-9af6-9d25a5ff97aa",
   "metadata": {},
   "outputs": [
    {
     "name": "stdout",
     "output_type": "stream",
     "text": [
      "{'A1': 20, 'B1': 25, 'c1': 40, 'x1': 100, 'y1': 200, 'd1': 'hello'}\n"
     ]
    }
   ],
   "source": [
    "print(d3)"
   ]
  },
  {
   "cell_type": "code",
   "execution_count": null,
   "id": "12549b63-c7e2-42ee-9628-ec106579b3c1",
   "metadata": {},
   "outputs": [],
   "source": []
  }
 ],
 "metadata": {
  "kernelspec": {
   "display_name": "Python 3 (ipykernel)",
   "language": "python",
   "name": "python3"
  },
  "language_info": {
   "codemirror_mode": {
    "name": "ipython",
    "version": 3
   },
   "file_extension": ".py",
   "mimetype": "text/x-python",
   "name": "python",
   "nbconvert_exporter": "python",
   "pygments_lexer": "ipython3",
   "version": "3.10.8"
  }
 },
 "nbformat": 4,
 "nbformat_minor": 5
}
